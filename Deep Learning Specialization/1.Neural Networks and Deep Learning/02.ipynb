{
 "cells": [
  {
   "cell_type": "code",
   "execution_count": 1,
   "id": "dcd937a7",
   "metadata": {},
   "outputs": [],
   "source": [
    "import numpy as np\n",
    "import time"
   ]
  },
  {
   "cell_type": "markdown",
   "id": "3a4daebf",
   "metadata": {},
   "source": [
    "# Vectorizing"
   ]
  },
  {
   "cell_type": "code",
   "execution_count": 2,
   "id": "03f0760b",
   "metadata": {},
   "outputs": [],
   "source": [
    "a=np.random.rand(1000000)\n",
    "b=np.random.rand(1000000)"
   ]
  },
  {
   "cell_type": "markdown",
   "id": "471460e1",
   "metadata": {},
   "source": [
    "## 벡터화 버전"
   ]
  },
  {
   "cell_type": "code",
   "execution_count": 3,
   "id": "2be65028",
   "metadata": {},
   "outputs": [],
   "source": [
    "tic=time.time()\n",
    "c=np.dot(a,b)\n",
    "toc=time.time()"
   ]
  },
  {
   "cell_type": "code",
   "execution_count": 4,
   "id": "fdb97170",
   "metadata": {},
   "outputs": [
    {
     "name": "stdout",
     "output_type": "stream",
     "text": [
      "249995.69292419736\n",
      "벡터화 버전: 34.99937057495117ms\n"
     ]
    }
   ],
   "source": [
    "print(c)\n",
    "print('벡터화 버전:',str(1000*(toc-tic))+'ms')"
   ]
  },
  {
   "cell_type": "markdown",
   "id": "0500c0e7",
   "metadata": {},
   "source": [
    "## 비벡터화 버전"
   ]
  },
  {
   "cell_type": "code",
   "execution_count": 5,
   "id": "ad9c91f3",
   "metadata": {},
   "outputs": [],
   "source": [
    "c=0\n",
    "tic=time.time()\n",
    "for i in range(1000000):\n",
    "    c+=a[i]*b[i]\n",
    "toc=time.time()"
   ]
  },
  {
   "cell_type": "code",
   "execution_count": 6,
   "id": "56648e3f",
   "metadata": {},
   "outputs": [
    {
     "name": "stdout",
     "output_type": "stream",
     "text": [
      "249995.69292419063\n",
      "for loop 버전: 488.76142501831055ms\n"
     ]
    }
   ],
   "source": [
    "print(c)\n",
    "print('for loop 버전:',str(1000*(toc-tic))+'ms')"
   ]
  },
  {
   "cell_type": "markdown",
   "id": "9e4c9866",
   "metadata": {},
   "source": [
    "# Broadcasting in Python"
   ]
  },
  {
   "cell_type": "code",
   "execution_count": 3,
   "id": "5941e6d8",
   "metadata": {},
   "outputs": [],
   "source": [
    "import numpy as np"
   ]
  },
  {
   "cell_type": "code",
   "execution_count": 4,
   "id": "3284ae32",
   "metadata": {},
   "outputs": [],
   "source": [
    "A= np.array([ [56.0, 0.0, 4.4, 68.0],\n",
    "[1.2, 104.0, 52.0, 8.0,],\n",
    "[1.8, 135.0, 99.0, 0.9]])"
   ]
  },
  {
   "cell_type": "code",
   "execution_count": 5,
   "id": "0ee687c0",
   "metadata": {},
   "outputs": [],
   "source": [
    "cal=A.sum(axis=0) #axis=0: 수직으로 합산 axis=1이면 수평으로 합산"
   ]
  },
  {
   "cell_type": "code",
   "execution_count": 6,
   "id": "7000a0dd",
   "metadata": {},
   "outputs": [],
   "source": [
    "percentage=A/cal.reshape(1,4)*100 \n",
    "# cal의 shape 모르는 경우가 있기에 reshape를 넣어주는 것을 추천한다."
   ]
  },
  {
   "cell_type": "code",
   "execution_count": 7,
   "id": "36f6ddbd",
   "metadata": {},
   "outputs": [
    {
     "data": {
      "text/plain": [
       "array([[94.91525424,  0.        ,  2.83140283, 88.42652796],\n",
       "       [ 2.03389831, 43.51464435, 33.46203346, 10.40312094],\n",
       "       [ 3.05084746, 56.48535565, 63.70656371,  1.17035111]])"
      ]
     },
     "execution_count": 7,
     "metadata": {},
     "output_type": "execute_result"
    }
   ],
   "source": [
    "percentage"
   ]
  },
  {
   "cell_type": "markdown",
   "id": "6298af19",
   "metadata": {},
   "source": [
    "# 파이썬/Numpy 팁\n",
    "\n",
    "버그를 줄이는 코딩 팁을 이야기한다."
   ]
  },
  {
   "cell_type": "code",
   "execution_count": 17,
   "id": "441f070e",
   "metadata": {},
   "outputs": [
    {
     "name": "stdout",
     "output_type": "stream",
     "text": [
      "[0.41318586 0.98703847 0.74350874 0.97561573 0.31432908]\n",
      "(5,)\n"
     ]
    }
   ],
   "source": [
    "a=np.random.rand(5)\n",
    "print(a)\n",
    "print(a.shape) #여기서 A는 행켁터도, 열백터도 아님"
   ]
  },
  {
   "cell_type": "code",
   "execution_count": 15,
   "id": "065b0b12",
   "metadata": {},
   "outputs": [
    {
     "name": "stdout",
     "output_type": "stream",
     "text": [
      "[0.70493951 0.62534289 0.4463525  0.27157807 0.49613265]\n"
     ]
    }
   ],
   "source": [
    "print(a.T) #a와 a 전치 값이 동일하다"
   ]
  },
  {
   "cell_type": "code",
   "execution_count": 18,
   "id": "bca6b213",
   "metadata": {},
   "outputs": [
    {
     "name": "stdout",
     "output_type": "stream",
     "text": [
      "2.7484015758178737\n"
     ]
    }
   ],
   "source": [
    "print(np.dot(a,a.T)) \n",
    "# a와 a전치를 외적할경우에 행렬이 반환되어야 하지만 값 1개만 리턴된다."
   ]
  },
  {
   "cell_type": "markdown",
   "id": "eb9408ce",
   "metadata": {},
   "source": [
    "#### 따라서 위에처럼 생성하는 것이 아니라 n,1로 생성할것!!\\\n",
    "위에처럼 생성할 경우 행벡터나 열벡터로 일정하게 동작하지 않는다."
   ]
  },
  {
   "cell_type": "code",
   "execution_count": 19,
   "id": "8976d9f0",
   "metadata": {},
   "outputs": [
    {
     "name": "stdout",
     "output_type": "stream",
     "text": [
      "[[0.29872288]\n",
      " [0.16173437]\n",
      " [0.93002407]\n",
      " [0.77120114]\n",
      " [0.98276693]]\n"
     ]
    }
   ],
   "source": [
    "a=np.random.rand(5,1) #요렇게 열벡터 생성\n",
    "print(a)"
   ]
  },
  {
   "cell_type": "code",
   "execution_count": 20,
   "id": "b6161eee",
   "metadata": {},
   "outputs": [
    {
     "name": "stdout",
     "output_type": "stream",
     "text": [
      "[[0.29872288 0.16173437 0.93002407 0.77120114 0.98276693]]\n"
     ]
    }
   ],
   "source": [
    "print(a.T) #a와 a 전치 값이 다르다 전치는 행벡터"
   ]
  },
  {
   "cell_type": "code",
   "execution_count": 21,
   "id": "f737a8b6",
   "metadata": {},
   "outputs": [
    {
     "name": "stdout",
     "output_type": "stream",
     "text": [
      "[[0.08923536 0.04831376 0.27781947 0.23037543 0.29357497]\n",
      " [0.04831376 0.02615801 0.15041685 0.12472973 0.15894719]\n",
      " [0.27781947 0.15041685 0.86494476 0.71723562 0.9139969 ]\n",
      " [0.23037543 0.12472973 0.71723562 0.5947512  0.75791098]\n",
      " [0.29357497 0.15894719 0.9139969  0.75791098 0.96583084]]\n"
     ]
    }
   ],
   "source": [
    "print(np.dot(a,a.T)) # 여기서는 정상적으로 외적되어 행렬이 리턴된다."
   ]
  },
  {
   "cell_type": "markdown",
   "id": "2203a887",
   "metadata": {},
   "source": [
    "### assert로 에러 처리를 만들어라\n",
    "벡터의 차원이 정확하지 않을 때 사용하는 방법"
   ]
  },
  {
   "cell_type": "code",
   "execution_count": 22,
   "id": "61c856c4",
   "metadata": {},
   "outputs": [],
   "source": [
    "assert (a.shape==(5,1)) #a의 모양이 5X1인지 확실히 한다."
   ]
  },
  {
   "cell_type": "markdown",
   "id": "31f36586",
   "metadata": {},
   "source": [
    "#### np.random.rand(5)을 rank 1 array라고 하는데 이를 사용하지 말것!!\n",
    "이를 사용하였을 경우에는 reshape로 변형해라"
   ]
  },
  {
   "cell_type": "code",
   "execution_count": null,
   "id": "825740b5",
   "metadata": {},
   "outputs": [],
   "source": []
  },
  {
   "cell_type": "code",
   "execution_count": null,
   "id": "09a11f37",
   "metadata": {},
   "outputs": [],
   "source": []
  },
  {
   "cell_type": "code",
   "execution_count": null,
   "id": "2515b522",
   "metadata": {},
   "outputs": [],
   "source": []
  }
 ],
 "metadata": {
  "kernelspec": {
   "display_name": "Python 3 (ipykernel)",
   "language": "python",
   "name": "python3"
  },
  "language_info": {
   "codemirror_mode": {
    "name": "ipython",
    "version": 3
   },
   "file_extension": ".py",
   "mimetype": "text/x-python",
   "name": "python",
   "nbconvert_exporter": "python",
   "pygments_lexer": "ipython3",
   "version": "3.8.13"
  }
 },
 "nbformat": 4,
 "nbformat_minor": 5
}
